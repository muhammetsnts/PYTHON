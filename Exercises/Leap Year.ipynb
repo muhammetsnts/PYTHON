{
 "cells": [
  {
   "cell_type": "code",
   "execution_count": 1,
   "id": "equal-armstrong",
   "metadata": {},
   "outputs": [
    {
     "name": "stdout",
     "output_type": "stream",
     "text": [
      "Please enter the year (press q for exit):2100\n",
      "2100 is not a leap year!\n",
      "Please enter the year (press q for exit):2000\n",
      "2000 is a leap year!\n",
      "Please enter the year (press q for exit):2010\n",
      "2010 is not a leap year!\n",
      "Please enter the year (press q for exit):q\n",
      "Good Bye!\n"
     ]
    }
   ],
   "source": [
    "while True:\n",
    "    year=input(\"Please enter the year (press q for exit):\")\n",
    "    if year.lower()==\"q\":\n",
    "        print(\"Good Bye!\")\n",
    "        break\n",
    "    else:\n",
    "        try:\n",
    "            year=int(year)\n",
    "            if year%400==0:\n",
    "                print(year,\"is a leap year!\")\n",
    "            elif year%100==0:\n",
    "                print(year,\"is not a leap year!\")\n",
    "            elif year%4==0:\n",
    "                print(year,\"is a leap year!\")\n",
    "            else: print(year, \"is not a leap year!\")\n",
    "        except:\n",
    "            print(\"Please enter a NUMBER! Try again!\")"
   ]
  },
  {
   "cell_type": "code",
   "execution_count": null,
   "id": "combined-amount",
   "metadata": {},
   "outputs": [],
   "source": []
  }
 ],
 "metadata": {
  "kernelspec": {
   "display_name": "Python 3",
   "language": "python",
   "name": "python3"
  },
  "language_info": {
   "codemirror_mode": {
    "name": "ipython",
    "version": 3
   },
   "file_extension": ".py",
   "mimetype": "text/x-python",
   "name": "python",
   "nbconvert_exporter": "python",
   "pygments_lexer": "ipython3",
   "version": "3.7.9"
  }
 },
 "nbformat": 4,
 "nbformat_minor": 5
}
