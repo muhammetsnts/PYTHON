{
 "cells": [
  {
   "cell_type": "code",
   "execution_count": 3,
   "id": "resident-attraction",
   "metadata": {},
   "outputs": [
    {
     "name": "stdout",
     "output_type": "stream",
     "text": [
      "Please enter the sentence :Hello there, I am learning everyday and happy with it!\n",
      "{'H': 1, 'e': 6, 'l': 3, 'o': 1, ' ': 9, 't': 3, 'h': 3, 'r': 3, ',': 1, 'I': 1, 'a': 5, 'm': 1, 'n': 3, 'i': 3, 'g': 1, 'v': 1, 'y': 3, 'd': 2, 'p': 2, 'w': 1, '!': 1}\n"
     ]
    }
   ],
   "source": [
    "sentence=input(\"Please enter the sentence :\")\n",
    "counted={}\n",
    "\n",
    "for i in sentence:\n",
    "    counted[i]=sentence.count(i)\n",
    "\n",
    "print(counted)"
   ]
  },
  {
   "cell_type": "code",
   "execution_count": null,
   "id": "annual-matrix",
   "metadata": {},
   "outputs": [],
   "source": []
  }
 ],
 "metadata": {
  "kernelspec": {
   "display_name": "Python 3",
   "language": "python",
   "name": "python3"
  },
  "language_info": {
   "codemirror_mode": {
    "name": "ipython",
    "version": 3
   },
   "file_extension": ".py",
   "mimetype": "text/x-python",
   "name": "python",
   "nbconvert_exporter": "python",
   "pygments_lexer": "ipython3",
   "version": "3.7.9"
  }
 },
 "nbformat": 4,
 "nbformat_minor": 5
}
