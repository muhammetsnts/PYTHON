{
 "cells": [
  {
   "cell_type": "code",
   "execution_count": 92,
   "metadata": {},
   "outputs": [
    {
     "name": "stdout",
     "output_type": "stream",
     "text": [
      "*****************************************\n",
      " ------- PRIME NUMBER COUNTER -------\n",
      "*****************************************\n",
      "Enter a positive integer number:100\n",
      "[2, 3, 5, 7, 11, 13, 17, 19, 23, 29, 31, 37, 41, 43, 47, 53, 59, 61, 67, 71, 73, 79, 83, 89, 97]\n"
     ]
    }
   ],
   "source": [
    "print(\"*****************************************\\n ------- PRIME NUMBER COUNTER -------\\n*****************************************\")\n",
    "def prime_finder(num):\n",
    "    control=[]\n",
    "    prime_num={2}\n",
    "    punctuation=[\"/\",\"*\",\"-\",\"+\",\".\",\",\"]\n",
    "\n",
    "    for i in num:\n",
    "        if (i not in punctuation) and (i.isnumeric()):\n",
    "          control.append(i)\n",
    "        else: return \"It is an invalid entry. Don't use non-numeric, float, or negative values! Try again please...\"\n",
    "\n",
    "    num=int(\"\".join(control))\n",
    "    if num==1: return \"Invalid entry. (The lowest prime number is 2)\"\n",
    "    elif num==2: return [num]\n",
    "    else:\n",
    "        for j in range(2,num):\n",
    "            for i in range(2,j):\n",
    "                if j%i==0: break\n",
    "                if i==(j-1):\n",
    "                    prime_num.add(j)\n",
    "\n",
    "    return list(prime_num)\n",
    "\n",
    "n = input(\"Enter a positive integer number:\")\n",
    "print(prime_finder(n))"
   ]
  },
  {
   "cell_type": "code",
   "execution_count": null,
   "metadata": {},
   "outputs": [],
   "source": []
  }
 ],
 "metadata": {
  "kernelspec": {
   "display_name": "Python 3",
   "language": "python",
   "name": "python3"
  },
  "language_info": {
   "codemirror_mode": {
    "name": "ipython",
    "version": 3
   },
   "file_extension": ".py",
   "mimetype": "text/x-python",
   "name": "python",
   "nbconvert_exporter": "python",
   "pygments_lexer": "ipython3",
   "version": "3.7.4"
  }
 },
 "nbformat": 4,
 "nbformat_minor": 2
}
